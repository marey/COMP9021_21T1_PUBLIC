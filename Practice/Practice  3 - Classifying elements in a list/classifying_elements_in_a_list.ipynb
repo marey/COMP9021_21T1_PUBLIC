{
 "cells": [
  {
   "cell_type": "code",
   "execution_count": null,
   "metadata": {},
   "outputs": [],
   "source": [
    "load_ext run_and_test"
   ]
  },
  {
   "cell_type": "markdown",
   "metadata": {},
   "source": [
    "## Counting the number of elements in a list equal to 0, 1, 2 or 3 modulo 4"
   ]
  },
  {
   "cell_type": "markdown",
   "metadata": {},
   "source": [
    "Study and run the following program."
   ]
  },
  {
   "cell_type": "code",
   "execution_count": null,
   "metadata": {},
   "outputs": [],
   "source": [
    "# %load modulo_4.py\n",
    "# Written by Eric Martin for COMP9021\n",
    "\n",
    "\n",
    "from random import seed, randrange\n",
    "import sys\n",
    "\n",
    "\n",
    "# Prompts the user for an integer to provide as argument to the\n",
    "# seed() function.\n",
    "try:\n",
    "    arg_for_seed = int(input('Feed the seed with an integer: '))\n",
    "except ValueError:\n",
    "    print('Input is not an integer, giving up.')\n",
    "    sys.exit()   \n",
    "# Prompts the user a strictly positive number, nb_of_elements.\n",
    "try:\n",
    "    nb_of_elements = int(input('How many elements do you want to generate? '))\n",
    "except ValueError:\n",
    "    print('Input is not an integer, giving up.')\n",
    "    sys.exit()\n",
    "if nb_of_elements <= 0:\n",
    "    print('Input should be strictly positive, giving up.')\n",
    "    sys.exit()\n",
    "seed(arg_for_seed)\n",
    "# Generates a list of nb_of_elements random integers between 0 and 99.\n",
    "L = [randrange(100) for _ in range(nb_of_elements)]\n",
    "# Prints out the list.\n",
    "print('\\nThe list is:' , L)\n",
    "print()\n",
    "# Computes the number of elements equal to 0, 1, 2 3 modulo 4.\n",
    "# - remainders_modulo_4[0] to record the number of elements\n",
    "#   equal to 0 modulo 4,\n",
    "# - remainders_modulo_4[1] to record the number of elements\n",
    "#   equal to 1 modulo 4,\n",
    "# - remainders_modulo_4[2] to record the number of elements\n",
    "#   equal to 2 modulo 4,\n",
    "# - remainders_modulo_4[3] to record the number of elements\n",
    "#   equal to 3 modulo 4.\n",
    "remainders_modulo_4 = [0] * 4\n",
    "for e in L:\n",
    "    remainders_modulo_4[e % 4] += 1\n",
    "# Prints those numbers out.\n",
    "for i in range(4):\n",
    "    if remainders_modulo_4[i] == 0:\n",
    "        print('There is no element', end=' ')\n",
    "    elif remainders_modulo_4[i] == 1:\n",
    "        print('There is 1 element', end=' ')\n",
    "    else:\n",
    "        print(f'There are', remainders_modulo_4[i], 'elements', end=' ')\n",
    "    print('equal to', i, 'modulo 4.')\n"
   ]
  },
  {
   "cell_type": "markdown",
   "metadata": {},
   "source": [
    "## Task"
   ]
  },
  {
   "cell_type": "markdown",
   "metadata": {},
   "source": [
    "Write a program `intervals.py` that runs as follows.\n",
    "\n",
    "* It prompts the user for:\n",
    "    * an integer, given as argument to the `seed()` function from the `random` module;\n",
    "    * a strictly positive integer, *nb_of_elements*.\n",
    "* It generates, using *nb_of_elements* many calls to the `randrange()` function from the `random` module, *nb_of_elements* random integers between 0 and 19 included.\n",
    "* It displays the generated list.\n",
    "* It computes the number of elements strictly less than 5, 10, 15 and 20, and prints those out."
   ]
  },
  {
   "cell_type": "markdown",
   "metadata": {},
   "source": [
    "## Tests"
   ]
  },
  {
   "cell_type": "markdown",
   "metadata": {},
   "source": [
    "### A list with 1 integer"
   ]
  },
  {
   "cell_type": "code",
   "execution_count": null,
   "metadata": {
    "scrolled": true
   },
   "outputs": [],
   "source": [
    "%%run_and_test -i'2\\n1\\n' python3 intervals.py\n",
    "\n",
    "'Feed the seed with an integer: ', '2\\n',\n",
    "'How many elements do you want to generate? ', '1\\n',\n",
    "'\\n\n",
    "The list is: [1]\\n\n",
    "\\n\n",
    "There is 1 element between 0 and 4.\\n\n",
    "There is no element between 5 and 9.\\n\n",
    "There is no element between 10 and 14.\\n\n",
    "There is no element between 15 and 19.\\n'"
   ]
  },
  {
   "cell_type": "markdown",
   "metadata": {},
   "source": [
    "### A list with 2 integers"
   ]
  },
  {
   "cell_type": "code",
   "execution_count": null,
   "metadata": {
    "scrolled": false
   },
   "outputs": [],
   "source": [
    "%%run_and_test -i'7\\n2\\n' python3 intervals.py\n",
    "\n",
    "'Feed the seed with an integer: ', '7\\n',\n",
    "'How many elements do you want to generate? ', '2\\n',\n",
    "'\\n\n",
    "The list is: [10, 4]\\n\n",
    "\\n\n",
    "There is 1 element between 0 and 4.\\n\n",
    "There is no element between 5 and 9.\\n\n",
    "There is 1 element between 10 and 14.\\n\n",
    "There is no element between 15 and 19.\\n'"
   ]
  },
  {
   "cell_type": "markdown",
   "metadata": {},
   "source": [
    "### A list with 3 integers"
   ]
  },
  {
   "cell_type": "code",
   "execution_count": null,
   "metadata": {
    "scrolled": true
   },
   "outputs": [],
   "source": [
    "%%run_and_test -i'12\\n3\\n' python3 intervals.py\n",
    "\n",
    "'Feed the seed with an integer: ', '12\\n',\n",
    "'How many elements do you want to generate? ', '3\\n',\n",
    "'\\n'\n",
    "'The list is: [15, 8, 16]\\n'\n",
    "'\\n'\n",
    "'There is no element between 0 and 4.\\n'\n",
    "'There is 1 element between 5 and 9.\\n'\n",
    "'There is no element between 10 and 14.\\n'\n",
    "'There are 2 elements between 15 and 19.\\n'"
   ]
  },
  {
   "cell_type": "markdown",
   "metadata": {},
   "source": [
    "### A list with 4 integers"
   ]
  },
  {
   "cell_type": "code",
   "execution_count": null,
   "metadata": {
    "scrolled": false
   },
   "outputs": [],
   "source": [
    "%%run_and_test -i'17\\n4\\n' python3 intervals.py\n",
    "\n",
    "'Feed the seed with an integer: ', '17\\n',\n",
    "'How many elements do you want to generate? ', '4\\n',\n",
    "'\\n'\n",
    "'The list is: [16, 13, 9, 11]\\n'\n",
    "'\\n'\n",
    "'There is no element between 0 and 4.\\n'\n",
    "'There is 1 element between 5 and 9.\\n'\n",
    "'There are 2 elements between 10 and 14.\\n'\n",
    "'There is 1 element between 15 and 19.\\n'"
   ]
  },
  {
   "cell_type": "markdown",
   "metadata": {},
   "source": [
    "### A list with 5 integers"
   ]
  },
  {
   "cell_type": "code",
   "execution_count": null,
   "metadata": {
    "scrolled": true
   },
   "outputs": [],
   "source": [
    "%%run_and_test -i'22\\n5\\n' python3 intervals.py\n",
    "\n",
    "'Feed the seed with an integer: ', '22\\n',\n",
    "'How many elements do you want to generate? ', '5\\n',\n",
    "'\\n'\n",
    "'The list is: [4, 7, 0, 19, 14]\\n'\n",
    "'\\n'\n",
    "'There are 2 elements between 0 and 4.\\n'\n",
    "'There is 1 element between 5 and 9.\\n'\n",
    "'There is 1 element between 10 and 14.\\n'\n",
    "'There is 1 element between 15 and 19.\\n'"
   ]
  },
  {
   "cell_type": "markdown",
   "metadata": {},
   "source": [
    "### A list with 8 integers"
   ]
  },
  {
   "cell_type": "code",
   "execution_count": null,
   "metadata": {
    "scrolled": true
   },
   "outputs": [],
   "source": [
    "%%run_and_test -i'27\\n8\\n' python3 intervals.py\n",
    "\n",
    "'Feed the seed with an integer: ', '27\\n',\n",
    "'How many elements do you want to generate? ', '8\\n',\n",
    "'\\n'\n",
    "'The list is: [15, 8, 9, 6, 2, 2, 8, 17]\\n'\n",
    "'\\n'\n",
    "'There are 2 elements between 0 and 4.\\n'\n",
    "'There are 4 elements between 5 and 9.\\n'\n",
    "'There is no element between 10 and 14.\\n'\n",
    "'There are 2 elements between 15 and 19.\\n'"
   ]
  },
  {
   "cell_type": "markdown",
   "metadata": {},
   "source": [
    "### A list with 13 integers"
   ]
  },
  {
   "cell_type": "code",
   "execution_count": null,
   "metadata": {
    "scrolled": true
   },
   "outputs": [],
   "source": [
    "%%run_and_test -i'32\\n13\\n' python3 intervals.py\n",
    "\n",
    "'Feed the seed with an integer: ', '32\\n',\n",
    "'How many elements do you want to generate? ', '13\\n',\n",
    "'\\n'\n",
    "'The list is: [2, 6, 4, 9, 7, 15, 0, 1, 3, 10, 16, 10, 1]\\n'\n",
    "'\\n'\n",
    "'There are 6 elements between 0 and 4.\\n'\n",
    "'There are 3 elements between 5 and 9.\\n'\n",
    "'There are 2 elements between 10 and 14.\\n'\n",
    "'There are 2 elements between 15 and 19.\\n'"
   ]
  }
 ],
 "metadata": {
  "kernelspec": {
   "display_name": "Python 3",
   "language": "python",
   "name": "python3"
  },
  "language_info": {
   "codemirror_mode": {
    "name": "ipython",
    "version": 3
   },
   "file_extension": ".py",
   "mimetype": "text/x-python",
   "name": "python",
   "nbconvert_exporter": "python",
   "pygments_lexer": "ipython3",
   "version": "3.9.1"
  },
  "latex_envs": {
   "LaTeX_envs_menu_present": true,
   "autoclose": false,
   "autocomplete": true,
   "bibliofile": "biblio.bib",
   "cite_by": "apalike",
   "current_citInitial": 1,
   "eqLabelWithNumbers": true,
   "eqNumInitial": 1,
   "hotkeys": {
    "equation": "Ctrl-E",
    "itemize": "Ctrl-I"
   },
   "labels_anchors": false,
   "latex_user_defs": false,
   "report_style_numbering": false,
   "user_envs_cfg": false
  },
  "toc": {
   "base_numbering": 1,
   "nav_menu": {},
   "number_sections": true,
   "sideBar": true,
   "skip_h1_title": false,
   "title_cell": "Table of Contents",
   "title_sidebar": "Contents",
   "toc_cell": false,
   "toc_position": {},
   "toc_section_display": true,
   "toc_window_display": false
  }
 },
 "nbformat": 4,
 "nbformat_minor": 4
}
