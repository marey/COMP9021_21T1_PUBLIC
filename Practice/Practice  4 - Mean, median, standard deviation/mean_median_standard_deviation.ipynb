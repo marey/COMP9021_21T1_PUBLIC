{
 "cells": [
  {
   "cell_type": "code",
   "execution_count": null,
   "metadata": {},
   "outputs": [],
   "source": [
    "load_ext run_and_test"
   ]
  },
  {
   "cell_type": "markdown",
   "metadata": {},
   "source": [
    "## Task"
   ]
  },
  {
   "cell_type": "markdown",
   "metadata": {},
   "source": [
    "Write a program `mean_median_standard_deviation.py` that runs as follows.\n",
    "\n",
    "* It prompts the user for:\n",
    "    * an integer, given as argument to the `seed()` function from the `random` module;\n",
    "    * a strictly positive integer, *nb_of_elements*.\n",
    "* It generates, using *nb_of_elements* many calls to the `randint()` function from the `random` module, *nb_of_elements* random integers between -50 and 50 included.\n",
    "* It displays the generated list.\n",
    "* It computes the mean, the median and the standard deviation of the numbers in the list using nothing but arithmetic operators and displays them as floating point numbers with two digits after the decimal point.\n",
    "* It computes the mean, the median and the standard deviation of the numbers in the list using the `mean()`, `median()` and `pstdev()` functions from the statistics module and displays them as floating point numbers with two digits after the decimal point. "
   ]
  },
  {
   "cell_type": "markdown",
   "metadata": {},
   "source": [
    "## Tests"
   ]
  },
  {
   "cell_type": "markdown",
   "metadata": {},
   "source": [
    "### A list with 1 integer"
   ]
  },
  {
   "cell_type": "code",
   "execution_count": null,
   "metadata": {
    "run_control": {
     "marked": false
    }
   },
   "outputs": [],
   "source": [
    "%%run_and_test -i'0\\n1\\n' python3 mean_median_standard_deviation.py\n",
    "\n",
    "'Feed the seed with an integer: ', '0\\n',\n",
    "'How many elements do you want to generate? ', '1\\n',\n",
    "'\\n\n",
    "The list is: [-1]\\n\n",
    "\\n\n",
    "The mean is -1.00.\\n\n",
    "The median is -1.00.\\n\n",
    "The standard deviation is 0.00.\\n\n",
    "\\n\n",
    "Confirming with functions from the statistics module:\\n\n",
    "The mean is -1.00.\\n\n",
    "The median is -1.00.\\n\n",
    "The standard deviation is 0.00.\\n'"
   ]
  },
  {
   "cell_type": "markdown",
   "metadata": {},
   "source": [
    "### A list with 2 integers"
   ]
  },
  {
   "cell_type": "code",
   "execution_count": null,
   "metadata": {},
   "outputs": [],
   "source": [
    "%%run_and_test -i'5\\n2\\n' python3 mean_median_standard_deviation.py\n",
    "\n",
    "'Feed the seed with an integer: ', '5\\n',\n",
    "'How many elements do you want to generate? ', '2\\n',\n",
    "'\\n'\n",
    "'The list is: [29, -18]\\n'\n",
    "'\\n'\n",
    "'The mean is 5.50.\\n'\n",
    "'The median is 5.50.\\n'\n",
    "'The standard deviation is 23.50.\\n'\n",
    "'\\n'\n",
    "'Confirming with functions from the statistics module:\\n'\n",
    "'The mean is 5.50.\\n'\n",
    "'The median is 5.50.\\n'\n",
    "'The standard deviation is 23.50.\\n'"
   ]
  },
  {
   "cell_type": "markdown",
   "metadata": {},
   "source": [
    "### A list with 3 integers"
   ]
  },
  {
   "cell_type": "code",
   "execution_count": null,
   "metadata": {},
   "outputs": [],
   "source": [
    "%%run_and_test -i'10\\n3\\n' python3 mean_median_standard_deviation.py\n",
    "\n",
    "'Feed the seed with an integer: ', '10\\n',\n",
    "'How many elements do you want to generate? ', '3\\n',\n",
    "'\\n'\n",
    "'The list is: [23, -46, 4]\\n'\n",
    "'\\n'\n",
    "'The mean is -6.33.\\n'\n",
    "'The median is 4.00.\\n'\n",
    "'The standard deviation is 29.10.\\n'\n",
    "'\\n'\n",
    "'Confirming with functions from the statistics module:\\n'\n",
    "'The mean is -6.33.\\n'\n",
    "'The median is 4.00.\\n'\n",
    "'The standard deviation is 29.10.\\n'"
   ]
  },
  {
   "cell_type": "markdown",
   "metadata": {},
   "source": [
    "### A list with 4 integers"
   ]
  },
  {
   "cell_type": "code",
   "execution_count": null,
   "metadata": {
    "scrolled": true
   },
   "outputs": [],
   "source": [
    "%%run_and_test -i'15\\n4\\n' python3 mean_median_standard_deviation.py\n",
    "\n",
    "'Feed the seed with an integer: ', '15\\n',\n",
    "'How many elements do you want to generate? ', '4\\n',\n",
    "'\\n'\n",
    "'The list is: [-24, -49, 16, 44]\\n'\n",
    "'\\n'\n",
    "'The mean is -3.25.\\n'\n",
    "'The median is -4.00.\\n'\n",
    "'The standard deviation is 35.80.\\n'\n",
    "'\\n'\n",
    "'Confirming with functions from the statistics module:\\n'\n",
    "'The mean is -3.25.\\n'\n",
    "'The median is -4.00.\\n'\n",
    "'The standard deviation is 35.80.\\n'"
   ]
  },
  {
   "cell_type": "markdown",
   "metadata": {},
   "source": [
    "### A list with 5 integers"
   ]
  },
  {
   "cell_type": "code",
   "execution_count": null,
   "metadata": {
    "scrolled": false
   },
   "outputs": [],
   "source": [
    "%%run_and_test -i'20\\n5\\n' python3 mean_median_standard_deviation.py\n",
    "\n",
    "'Feed the seed with an integer: ', '20\\n',\n",
    "'How many elements do you want to generate? ', '5\\n',\n",
    "'\\n'\n",
    "'The list is: [42, 37, 50, 48, -31]\\n'\n",
    "'\\n'\n",
    "'The mean is 29.20.\\n'\n",
    "'The median is 42.00.\\n'\n",
    "'The standard deviation is 30.45.\\n'\n",
    "'\\n'\n",
    "'Confirming with functions from the statistics module:\\n'\n",
    "'The mean is 29.20.\\n'\n",
    "'The median is 42.00.\\n'\n",
    "'The standard deviation is 30.45.\\n'"
   ]
  },
  {
   "cell_type": "markdown",
   "metadata": {},
   "source": [
    "### A list with 8 integers"
   ]
  },
  {
   "cell_type": "code",
   "execution_count": null,
   "metadata": {
    "scrolled": true
   },
   "outputs": [],
   "source": [
    "%%run_and_test -i'25\\n8\\n' python3 mean_median_standard_deviation.py\n",
    "\n",
    "'Feed the seed with an integer: ', '25\\n',\n",
    "'How many elements do you want to generate? ', '8\\n',\n",
    "'\\n'\n",
    "'The list is: [-2, 48, -49, -23, -11, 31, 10, -45]\\n'\n",
    "'\\n'\n",
    "'The mean is -5.12.\\n'\n",
    "'The median is -6.50.\\n'\n",
    "'The standard deviation is 32.08.\\n'\n",
    "'\\n'\n",
    "'Confirming with functions from the statistics module:\\n'\n",
    "'The mean is -5.12.\\n'\n",
    "'The median is -6.50.\\nThe standard deviation is 32.08.\\n'"
   ]
  },
  {
   "cell_type": "markdown",
   "metadata": {},
   "source": [
    "### A list with 13 integers"
   ]
  },
  {
   "cell_type": "code",
   "execution_count": null,
   "metadata": {
    "scrolled": false
   },
   "outputs": [],
   "source": [
    "%%run_and_test -i'30\\n13\\n' python3 mean_median_standard_deviation.py\n",
    "\n",
    "'Feed the seed with an integer: ', '30\\n',\n",
    "'How many elements do you want to generate? ', '13\\n',\n",
    "'\\n'\n",
    "'The list is: [19, -13, 28, -47, 29, 33, -24, -18, -44, 0, -2, 32, -33]\\n'\n",
    "'\\n'\n",
    "'The mean is -3.08.\\n'\n",
    "'The median is -2.00.\\n'\n",
    "'The standard deviation is 28.12.\\n'\n",
    "'\\n'\n",
    "'Confirming with functions from the statistics module:\\n'\n",
    "'The mean is -3.08.\\n'\n",
    "'The median is -2.00.\\n'\n",
    "'The standard deviation is 28.12.\\n'"
   ]
  }
 ],
 "metadata": {
  "kernelspec": {
   "display_name": "Python 3",
   "language": "python",
   "name": "python3"
  },
  "language_info": {
   "codemirror_mode": {
    "name": "ipython",
    "version": 3
   },
   "file_extension": ".py",
   "mimetype": "text/x-python",
   "name": "python",
   "nbconvert_exporter": "python",
   "pygments_lexer": "ipython3",
   "version": "3.9.1"
  },
  "latex_envs": {
   "LaTeX_envs_menu_present": true,
   "autoclose": false,
   "autocomplete": true,
   "bibliofile": "biblio.bib",
   "cite_by": "apalike",
   "current_citInitial": 1,
   "eqLabelWithNumbers": true,
   "eqNumInitial": 1,
   "hotkeys": {
    "equation": "Ctrl-E",
    "itemize": "Ctrl-I"
   },
   "labels_anchors": false,
   "latex_user_defs": false,
   "report_style_numbering": false,
   "user_envs_cfg": false
  },
  "toc": {
   "base_numbering": 1,
   "nav_menu": {},
   "number_sections": true,
   "sideBar": true,
   "skip_h1_title": false,
   "title_cell": "Table of Contents",
   "title_sidebar": "Contents",
   "toc_cell": false,
   "toc_position": {},
   "toc_section_display": true,
   "toc_window_display": false
  }
 },
 "nbformat": 4,
 "nbformat_minor": 4
}
