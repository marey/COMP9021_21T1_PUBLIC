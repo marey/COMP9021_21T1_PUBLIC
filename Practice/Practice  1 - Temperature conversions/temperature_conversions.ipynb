{
 "cells": [
  {
   "cell_type": "code",
   "execution_count": null,
   "metadata": {},
   "outputs": [],
   "source": [
    "load_ext run_and_test"
   ]
  },
  {
   "cell_type": "markdown",
   "metadata": {},
   "source": [
    "## Converting temperatures from Fahrenheit to Celsius degrees"
   ]
  },
  {
   "cell_type": "markdown",
   "metadata": {},
   "source": [
    "Study and run the following program."
   ]
  },
  {
   "cell_type": "code",
   "execution_count": null,
   "metadata": {},
   "outputs": [],
   "source": [
    "# %load fahrenheit_to_celsius.py\n",
    "# Written by Eric Martin for COMP9021\n",
    "\n",
    "\n",
    "# Prints out a conversion table of temperatures from Fahrenheit\n",
    "# to Celsius degrees, with the former ranging from 0 to 300 in\n",
    "# steps of 20.\n",
    "\n",
    "\n",
    "min_temperature = 0\n",
    "max_temperature = 300\n",
    "step = 20\n",
    "# \\t: A tab\n",
    "print('Fahrenheit\\tCelsius')\n",
    "# We let fahrenheit take the values\n",
    "# - min_temperature\n",
    "# - min_temperature + step\n",
    "# - min_temperature + 2 * step\n",
    "# - min_temperature + 3 * step\n",
    "# ...\n",
    "# up to the largest value smaller than max_temperature + step\n",
    "for fahrenheit in range(min_temperature, max_temperature + step, step):\n",
    "    celsius = 5 * (fahrenheit - 32) / 9\n",
    "    # {:10d} or {:10}: fahrenheit as a decimal number in a field\n",
    "    # of width 10.\n",
    "    # {:7.1f}: celsius as a floating point number in a field of\n",
    "    # width 7 with 1 digit after the decimal point.\n",
    "    print(f'{fahrenheit:10}\\t{celsius:7.1f}')\n"
   ]
  },
  {
   "cell_type": "markdown",
   "metadata": {},
   "source": [
    "## Task"
   ]
  },
  {
   "cell_type": "markdown",
   "metadata": {},
   "source": [
    "Write a program `celsius_to_fahrenheit.py` that displays a conversion table from Celsius degrees to Fahrenheit degrees, with the former ranging from 0 to 100 in steps of 10."
   ]
  },
  {
   "cell_type": "markdown",
   "metadata": {},
   "source": [
    "## Test"
   ]
  },
  {
   "cell_type": "code",
   "execution_count": null,
   "metadata": {},
   "outputs": [],
   "source": [
    "%%run_and_test python3 celsius_to_fahrenheit.py\n",
    "\n",
    "'''\n",
    "Celsius\tFahrenheit\\n\n",
    "      0\t        32\\n\n",
    "     10\t        50\\n\n",
    "     20\t        68\\n\n",
    "     30\t        86\\n\n",
    "     40\t       104\\n\n",
    "     50\t       122\\n\n",
    "     60\t       140\\n\n",
    "     70\t       158\\n\n",
    "     80\t       176\\n\n",
    "     90\t       194\\n\n",
    "    100\t       212\\n\n",
    "'''"
   ]
  }
 ],
 "metadata": {
  "kernelspec": {
   "display_name": "Python 3",
   "language": "python",
   "name": "python3"
  },
  "language_info": {
   "codemirror_mode": {
    "name": "ipython",
    "version": 3
   },
   "file_extension": ".py",
   "mimetype": "text/x-python",
   "name": "python",
   "nbconvert_exporter": "python",
   "pygments_lexer": "ipython3",
   "version": "3.9.1"
  },
  "latex_envs": {
   "LaTeX_envs_menu_present": true,
   "autoclose": false,
   "autocomplete": true,
   "bibliofile": "biblio.bib",
   "cite_by": "apalike",
   "current_citInitial": 1,
   "eqLabelWithNumbers": true,
   "eqNumInitial": 1,
   "hotkeys": {
    "equation": "Ctrl-E",
    "itemize": "Ctrl-I"
   },
   "labels_anchors": false,
   "latex_user_defs": false,
   "report_style_numbering": false,
   "user_envs_cfg": false
  },
  "toc": {
   "base_numbering": 1,
   "nav_menu": {},
   "number_sections": true,
   "sideBar": true,
   "skip_h1_title": false,
   "title_cell": "Table of Contents",
   "title_sidebar": "Contents",
   "toc_cell": false,
   "toc_position": {},
   "toc_section_display": true,
   "toc_window_display": false
  }
 },
 "nbformat": 4,
 "nbformat_minor": 4
}
